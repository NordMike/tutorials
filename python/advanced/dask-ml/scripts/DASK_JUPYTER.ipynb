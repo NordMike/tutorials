{
 "cells": [
  {
   "cell_type": "code",
   "execution_count": null,
   "id": "26b2a187",
   "metadata": {},
   "outputs": [],
   "source": [
    "from dask.distributed import Client\n",
    "import matplotlib.pyplot as plt\n",
    "import dask\n",
    "import dask.array as da\n",
    "import json\n",
    "import os\n",
    "\n",
    "data=[]\n",
    "# Using the distributed shared file system, we can access to the Dask cluster\n",
    "# configuration.\n",
    "# We read the scheduler address and port from the scheduler file\n",
    "with open(os.environ[\"SCHEDULER_FILE\"]) as f:\n",
    "        data = json.load(f)\n",
    "        scheduler_address=data['address']"
   ]
  },
  {
   "cell_type": "code",
   "execution_count": null,
   "id": "48517a00",
   "metadata": {},
   "outputs": [],
   "source": [
    "# Connect to the the cluster\n",
    "client = Client(scheduler_address)\n",
    "client.wait_for_workers()\n"
   ]
  },
  {
   "cell_type": "code",
   "execution_count": null,
   "id": "ec730732",
   "metadata": {},
   "outputs": [],
   "source": [
    "client"
   ]
  },
  {
   "cell_type": "code",
   "execution_count": null,
   "id": "7f92ff5a",
   "metadata": {},
   "outputs": [],
   "source": [
    "print(os.getenv(\"SCHEDULER_FILE\"))"
   ]
  },
  {
   "cell_type": "code",
   "execution_count": null,
   "id": "6c747bb9",
   "metadata": {},
   "outputs": [],
   "source": [
    "X = da.random.random((200000, 100), chunks=(10000, 100))"
   ]
  },
  {
   "cell_type": "code",
   "execution_count": null,
   "id": "24d7ceec",
   "metadata": {},
   "outputs": [],
   "source": [
    "u, s, v = da.linalg.svd(X)\n",
    "dask.visualize(u, s, v)"
   ]
  }
 ],
 "metadata": {
  "kernelspec": {
   "display_name": "custom_kernel",
   "language": "python",
   "name": "custom_kernel"
  },
  "language_info": {
   "codemirror_mode": {
    "name": "ipython",
    "version": 3
   },
   "file_extension": ".py",
   "mimetype": "text/x-python",
   "name": "python",
   "nbconvert_exporter": "python",
   "pygments_lexer": "ipython3",
   "version": "3.7.4"
  }
 },
 "nbformat": 4,
 "nbformat_minor": 5
}
